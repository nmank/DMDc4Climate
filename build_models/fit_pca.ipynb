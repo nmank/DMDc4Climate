{
 "cells": [
  {
   "cell_type": "code",
   "execution_count": 1,
   "metadata": {},
   "outputs": [],
   "source": [
    "import numpy as np\n",
    "import xarray as xr\n",
    "from matplotlib import pyplot as plt\n",
    "from sklearn.decomposition import PCA\n",
    "import pickle as pkl\n",
    "\n",
    "import sys\n",
    "sys.path.append('../')\n",
    "from utils import *"
   ]
  },
  {
   "cell_type": "code",
   "execution_count": 2,
   "metadata": {},
   "outputs": [
    {
     "ename": "AttributeError",
     "evalue": "'PCA' object has no attribute 'weights_'",
     "output_type": "error",
     "traceback": [
      "\u001b[0;31m---------------------------------------------------------------------------\u001b[0m",
      "\u001b[0;31mAttributeError\u001b[0m                            Traceback (most recent call last)",
      "Cell \u001b[0;32mIn[2], line 17\u001b[0m\n\u001b[1;32m     15\u001b[0m pcs \u001b[38;5;241m=\u001b[39m my_pca\u001b[38;5;241m.\u001b[39mcomponents_\n\u001b[1;32m     16\u001b[0m evrs \u001b[38;5;241m=\u001b[39m my_pca\u001b[38;5;241m.\u001b[39mexplained_variance_ratio_\n\u001b[0;32m---> 17\u001b[0m weights  \u001b[38;5;241m=\u001b[39m \u001b[43mmy_pca\u001b[49m\u001b[38;5;241;43m.\u001b[39;49m\u001b[43mweights_\u001b[49m\n\u001b[1;32m     19\u001b[0m pcs\u001b[38;5;241m.\u001b[39mdump(\u001b[38;5;124mf\u001b[39m\u001b[38;5;124m\"\u001b[39m\u001b[38;5;124m../models/PCA/tas\u001b[39m\u001b[38;5;132;01m{\u001b[39;00mscenario\u001b[38;5;132;01m}\u001b[39;00m\u001b[38;5;124m_pcs.npy\u001b[39m\u001b[38;5;124m\"\u001b[39m)\n\u001b[1;32m     20\u001b[0m evrs\u001b[38;5;241m.\u001b[39mdump(\u001b[38;5;124mf\u001b[39m\u001b[38;5;124m\"\u001b[39m\u001b[38;5;124m../models/PCA/tas\u001b[39m\u001b[38;5;132;01m{\u001b[39;00mscenario\u001b[38;5;132;01m}\u001b[39;00m\u001b[38;5;124m_evrs.npy\u001b[39m\u001b[38;5;124m\"\u001b[39m)\n",
      "\u001b[0;31mAttributeError\u001b[0m: 'PCA' object has no attribute 'weights_'"
     ]
    }
   ],
   "source": [
    "for scenario in [126, 245, 370, 585]:\n",
    "    xr_train_emissions = load_emissions_dataset('../data/train_val/inputs_historical.nc')\n",
    "    xr_test_emissions = load_emissions_dataset(f'../data/train_val/inputs_ssp{scenario}.nc')\n",
    "    times, emissions_data = extract_forcing_agents(xr_train_emissions, xr_test_emissions)\n",
    "\n",
    "    xr_train_clim = xr.open_dataset('../data/train_val/outputs_historical.nc').mean(dim='member')\n",
    "    xr_test_clim = xr.open_dataset(f'../data/train_val/outputs_ssp{scenario}.nc').mean(dim='member')\n",
    "\n",
    "    tas_all = xr.concat([xr_train_clim, xr_test_clim], dim = 'time').tas.values\n",
    "    ntime, nlat, nlong = tas_all.shape\n",
    "    tas_data = tas_all.reshape(ntime, -1)\n",
    "\n",
    "    my_pca = PCA(n_components=5)   #(svd_rank=5) \n",
    "    my_pca.fit(tas_data)\n",
    "    pcs = my_pca.components_\n",
    "    evrs = my_pca.explained_variance_ratio_\n",
    "    weights  = my_pca.components_\n",
    "\n",
    "    pcs.dump(f\"../models/PCA/tas{scenario}_pcs.npy\")\n",
    "    evrs.dump(f\"../models/PCA/tas{scenario}_evrs.npy\")\n",
    "    weights.dump(f\"../models/PCA/tas{scenario}_weights.npy\")\n",
    "\n",
    "    print(f'scenario {scenario} done')"
   ]
  },
  {
   "cell_type": "code",
   "execution_count": 3,
   "metadata": {},
   "outputs": [
    {
     "name": "stdout",
     "output_type": "stream",
     "text": [
      "scenario 126 done\n",
      "scenario 245 done\n",
      "scenario 370 done\n",
      "scenario 585 done\n"
     ]
    }
   ],
   "source": [
    "for scenario in [126, 245, 370, 585]:\n",
    "    xr_train_emissions = load_emissions_dataset('../data/train_val/inputs_historical.nc')\n",
    "    xr_test_emissions = load_emissions_dataset(f'../data/train_val/inputs_ssp{scenario}.nc')\n",
    "    times, emissions_data = extract_forcing_agents(xr_train_emissions, xr_test_emissions)\n",
    "\n",
    "    xr_train_clim = xr.open_dataset('../data/train_val/outputs_historical.nc').mean(dim='member')\n",
    "    xr_test_clim = xr.open_dataset(f'../data/train_val/outputs_ssp{scenario}.nc').mean(dim='member')\n",
    "\n",
    "    pr_all = xr.concat([xr_train_clim, xr_test_clim], dim = 'time').pr.values\n",
    "    ntime, nlat, nlong = tas_all.shape\n",
    "    pr_data_raw = pr_all.reshape(ntime, -1)\n",
    "    pr_data_less_raw =  log_transform(pr_data_raw, np.min(pr_data_raw))\n",
    "    pr_data = pr_data_less_raw - np.mean(pr_data_less_raw, axis = 0)\n",
    "\n",
    "    my_pca = PCA(n_components=5)   #(svd_rank=5) \n",
    "    my_pca.fit(pr_data)\n",
    "    pcs = my_pca.components_\n",
    "    evrs = my_pca.explained_variance_ratio_\n",
    "    weights  = my_pca.components_\n",
    "\n",
    "    pcs.dump(f\"../models/PCA/pr{scenario}_pcs.npy\")\n",
    "    evrs.dump(f\"../models/PCA/pr{scenario}_evrs.npy\")\n",
    "    weights.dump(f\"../models/PCA/pr{scenario}_weights.npy\")\n",
    "\n",
    "    print(f'scenario {scenario} done')"
   ]
  },
  {
   "cell_type": "code",
   "execution_count": null,
   "metadata": {},
   "outputs": [],
   "source": []
  }
 ],
 "metadata": {
  "kernelspec": {
   "display_name": "gp_control_dmd",
   "language": "python",
   "name": "python3"
  },
  "language_info": {
   "codemirror_mode": {
    "name": "ipython",
    "version": 3
   },
   "file_extension": ".py",
   "mimetype": "text/x-python",
   "name": "python",
   "nbconvert_exporter": "python",
   "pygments_lexer": "ipython3",
   "version": "3.11.4"
  }
 },
 "nbformat": 4,
 "nbformat_minor": 2
}
