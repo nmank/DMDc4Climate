{
 "cells": [
  {
   "cell_type": "code",
   "execution_count": 1,
   "metadata": {},
   "outputs": [],
   "source": [
    "import os\n",
    "import sys\n",
    "import numpy as np\n",
    "import xarray as xr\n",
    "from matplotlib import pyplot as plt\n",
    "\n",
    "from scipy.linalg import pinv\n",
    "import scipy\n",
    "import pydmd\n",
    "\n",
    "from tqdm import tqdm\n",
    "\n",
    "from sklearn.decomposition import PCA\n",
    "\n",
    "import time\n",
    "\n",
    "import seaborn as sns\n",
    "import pickle as pkl\n",
    "\n",
    "import sys\n",
    "sys.path.append('../')\n",
    "from utils import *\n",
    "\n",
    "import scipy"
   ]
  },
  {
   "cell_type": "markdown",
   "metadata": {},
   "source": [
    "this is a rough sanity check to verify that $\\bar{B}$ produces similar forcing contribution results to $F$. Specifically, it does not capture the forcing contribution..."
   ]
  },
  {
   "cell_type": "code",
   "execution_count": 2,
   "metadata": {},
   "outputs": [],
   "source": [
    "def TDE_wravel(X: np.array, lag: int):\n",
    "    T, N = X.shape\n",
    "    X_delay = np.zeros((T-lag+1, N*lag), dtype = 'complex128')\n",
    "    for l in range(lag):\n",
    "        X_delay[:,l*N:(l+1)*N] = X[l:T-(lag-1)+l]\n",
    "    \n",
    "    return X_delay\n",
    "\n",
    "def TDE_unwravel(X_delay: np.array, lag: int):\n",
    "    T_all, N_all = X_delay.shape\n",
    "\n",
    "    N = N_all // lag\n",
    "    T = T_all+lag-1\n",
    "    X = np.zeros((T, N),dtype = 'complex128')\n",
    "    for t in range(T_all):\n",
    "        for l in range(lag):\n",
    "            X[t+l,:] = X_delay[t,l*N:(l+1)*N]\n",
    "        \n",
    "    return X"
   ]
  },
  {
   "cell_type": "code",
   "execution_count": 3,
   "metadata": {},
   "outputs": [],
   "source": [
    "lag = 30\n",
    "scenario = 370 #focus on high aerosol scenario\n",
    "\n",
    "xr_train_clim = xr.open_dataset('../data/train_val/outputs_historical.nc').mean(dim='member')\n",
    "xr_test_clim = xr.open_dataset(f'../data/train_val/outputs_ssp{scenario}.nc').mean(dim='member')\n",
    "\n",
    "tas_all = xr.concat([xr_train_clim, xr_test_clim], dim = 'time').tas.values\n",
    "times = xr.concat([xr_train_clim, xr_test_clim], dim = 'time').time\n",
    "ntime, nlat, nlong = tas_all.shape\n",
    "tas_data = tas_all.reshape(ntime, -1)[lag-1:,:]\n",
    "\n",
    "forcing_data = np.load(f'../data/forcings/historical+ssp{scenario}_forcing.npy').T\n",
    "\n",
    "control_data = TDE_wravel(forcing_data, lag = lag)"
   ]
  },
  {
   "cell_type": "code",
   "execution_count": 4,
   "metadata": {},
   "outputs": [],
   "source": [
    "# collect data\n",
    "X = tas_data[:-1,:].T\n",
    "Xp = tas_data[1:,:].T\n",
    "Y = control_data[:-1,:].T\n"
   ]
  },
  {
   "cell_type": "code",
   "execution_count": 5,
   "metadata": {},
   "outputs": [],
   "source": [
    "#svd for POD modes\n",
    "Uhat, Shat, VhatT = scipy.linalg.svd(Xp, full_matrices=False) \n",
    "\n",
    "#svd for regression\n",
    "Omega = np.vstack([X,Y])\n",
    "U, S, V = scipy.linalg.svd(Omega, full_matrices=False)\n",
    "Ub = U[13824:,:] # only look at the B part"
   ]
  },
  {
   "cell_type": "code",
   "execution_count": 6,
   "metadata": {},
   "outputs": [
    {
     "data": {
      "image/png": "[encoded data removed]",
      "text/plain": [
       "<Figure size 640x480 with 1 Axes>"
      ]
     },
     "metadata": {},
     "output_type": "display_data"
    }
   ],
   "source": [
    "#SO2 with first 5 POD modes\n",
    "\n",
    "B = Uhat[:,:5] @ Uhat[:,:5].conj().T @ Xp @ V.conj().T @ np.diag(S**(-1)) @Ub.conj().T\n",
    "\n",
    "ssp = scenario \n",
    "forcing_data = np.load(f'../data/forcings/historical+ssp{ssp}_forcing.npy').T\n",
    "control_data = TDE_wravel(forcing_data, lag = lag)\n",
    "\n",
    "data = {}\n",
    "i=2\n",
    "agent = 'SO2'\n",
    "hankel_idx = np.arange(i,lag*4,4)[::-1]\n",
    "\n",
    "zs = B[:, hankel_idx] @ control_data[:,hankel_idx].T\n",
    "\n",
    "data[agent] = np.real(zs.flatten())\n",
    "\n",
    "\n",
    "axi = sns.boxplot(data=data)"
   ]
  },
  {
   "cell_type": "code",
   "execution_count": 7,
   "metadata": {},
   "outputs": [
    {
     "data": {
      "image/png": "[encoded data removed]",
      "text/plain": [
       "<Figure size 640x480 with 1 Axes>"
      ]
     },
     "metadata": {},
     "output_type": "display_data"
    }
   ],
   "source": [
    "#SO2 with all of Bbar\n",
    "\n",
    "Bbar = Xp @ V.conj().T @ np.diag(S**(-1)) @Ub.conj().T\n",
    "\n",
    "ssp = scenario \n",
    "forcing_data = np.load(f'../data/forcings/historical+ssp{ssp}_forcing.npy').T\n",
    "control_data = TDE_wravel(forcing_data, lag = lag)\n",
    "\n",
    "data = {}\n",
    "i=2\n",
    "agent = 'SO2'\n",
    "hankel_idx = np.arange(i,lag*4,4)[::-1]\n",
    "\n",
    "zs = Bbar[:, hankel_idx] @ control_data[:,hankel_idx].T\n",
    "\n",
    "data[agent] = np.real(zs.flatten())\n",
    "\n",
    "\n",
    "axi = sns.boxplot(data=data)"
   ]
  },
  {
   "cell_type": "code",
   "execution_count": null,
   "metadata": {},
   "outputs": [],
   "source": []
  },
  {
   "cell_type": "code",
   "execution_count": null,
   "metadata": {},
   "outputs": [],
   "source": []
  }
 ],
 "metadata": {
  "kernelspec": {
   "display_name": "Python 3 (ipykernel)",
   "language": "python",
   "name": "python3"
  },
  "language_info": {
   "codemirror_mode": {
    "name": "ipython",
    "version": 3
   },
   "file_extension": ".py",
   "mimetype": "text/x-python",
   "name": "python",
   "nbconvert_exporter": "python",
   "pygments_lexer": "ipython3",
   "version": "3.11.4"
  }
 },
 "nbformat": 4,
 "nbformat_minor": 2
}
