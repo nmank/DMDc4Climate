{
 "cells": [
  {
   "cell_type": "code",
   "execution_count": 1,
   "metadata": {},
   "outputs": [],
   "source": [
    "import os\n",
    "import sys\n",
    "import numpy as np\n",
    "import torch\n",
    "import xarray as xr\n",
    "from matplotlib import pyplot as plt\n",
    "\n",
    "from scipy.linalg import pinv\n",
    "import scipy\n",
    "import pydmd\n",
    "\n",
    "from tqdm import tqdm\n",
    "\n",
    "from sklearn.decomposition import PCA\n",
    "\n",
    "import time\n",
    "\n",
    "import pickle as pkl\n",
    "\n",
    "import sys\n",
    "sys.path.append('../')\n",
    "from utils import *"
   ]
  },
  {
   "cell_type": "code",
   "execution_count": 2,
   "metadata": {
    "scrolled": true
   },
   "outputs": [
    {
     "name": "stdout",
     "output_type": "stream",
     "text": [
      "scenario 126 done\n",
      "scenario 245 done\n",
      "scenario 370 done\n",
      "scenario 585 done\n"
     ]
    }
   ],
   "source": [
    "for scenario in [126, 245, 370, 585]:\n",
    "    xr_train_emissions = load_emissions_dataset('../data/train_val/inputs_historical.nc')\n",
    "    xr_test_emissions = load_emissions_dataset(f'../data/train_val/inputs_ssp{scenario}.nc')\n",
    "    times, emissions_data = extract_forcing_agents(xr_train_emissions, xr_test_emissions)\n",
    "    emissions_data = (emissions_data - emissions_data.mean(axis=0)) / emissions_data.std(axis=0)\n",
    "\n",
    "    xr_train_clim = xr.open_dataset('../data/train_val/outputs_historical.nc').mean(dim='member')\n",
    "    xr_test_clim = xr.open_dataset(f'../data/train_val/outputs_ssp{scenario}.nc').mean(dim='member')\n",
    "\n",
    "    tas_all = xr.concat([xr_train_clim, xr_test_clim], dim = 'time').tas.values\n",
    "    ntime, nlat, nlong = tas_all.shape\n",
    "    tas_data = tas_all.reshape(ntime, -1)\n",
    "\n",
    "    my_dmdc = pydmd.DMDc(svd_rank=5)   #(svd_rank=5) \n",
    "    my_dmdc.fit(tas_data.T, emissions_data[:-1,:].T)\n",
    "\n",
    "\n",
    "    with open(f\"../models/DMDc/tas{scenario}.pkl\", \"wb\") as file:\n",
    "        pkl.dump(my_dmdc, file)\n",
    "\n",
    "\n",
    "    print(f'scenario {scenario} done')"
   ]
  },
  {
   "cell_type": "code",
   "execution_count": 3,
   "metadata": {},
   "outputs": [
    {
     "name": "stdout",
     "output_type": "stream",
     "text": [
      "scenario 126 done\n",
      "scenario 245 done\n",
      "scenario 370 done\n",
      "scenario 585 done\n"
     ]
    }
   ],
   "source": [
    "for scenario in [126, 245, 370, 585]:\n",
    "    xr_train_emissions = load_emissions_dataset('../data/train_val/inputs_historical.nc')\n",
    "    xr_test_emissions = load_emissions_dataset(f'../data/train_val/inputs_ssp{scenario}.nc')\n",
    "    times, emissions_data = extract_forcing_agents(xr_train_emissions, xr_test_emissions)\n",
    "    emissions_data = (emissions_data - emissions_data.mean(axis=0)) / emissions_data.std(axis=0)\n",
    "\n",
    "    xr_train_clim = xr.open_dataset('../data/train_val/outputs_historical.nc').mean(dim='member')\n",
    "    xr_test_clim = xr.open_dataset(f'../data/train_val/outputs_ssp{scenario}.nc').mean(dim='member')\n",
    "\n",
    "    pr_all = xr.concat([xr_train_clim, xr_test_clim], dim = 'time').pr.values\n",
    "    ntime, nlat, nlong = tas_all.shape\n",
    "    pr_data_raw = pr_all.reshape(ntime, -1)\n",
    "    pr_data_less_raw =  log_transform(pr_data_raw, np.min(pr_data_raw))\n",
    "    pr_data = pr_data_less_raw - np.mean(pr_data_less_raw, axis = 0)\n",
    "    \n",
    "\n",
    "    my_dmdc = pydmd.DMDc(svd_rank=5)   #(svd_rank=5) \n",
    "    my_dmdc.fit(pr_data.T, emissions_data[:-1,:].T)\n",
    "\n",
    "    with open(f\"../models/DMDc/pr{scenario}.pkl\", \"wb\") as file:\n",
    "        pkl.dump(my_dmdc, file)\n",
    "\n",
    "    print(f'scenario {scenario} done')"
   ]
  },
  {
   "cell_type": "code",
   "execution_count": null,
   "metadata": {},
   "outputs": [],
   "source": []
  }
 ],
 "metadata": {
  "kernelspec": {
   "display_name": "Python 3 (ipykernel)",
   "language": "python",
   "name": "python3"
  },
  "language_info": {
   "codemirror_mode": {
    "name": "ipython",
    "version": 3
   },
   "file_extension": ".py",
   "mimetype": "text/x-python",
   "name": "python",
   "nbconvert_exporter": "python",
   "pygments_lexer": "ipython3",
   "version": "3.10.9"
  }
 },
 "nbformat": 4,
 "nbformat_minor": 2
}
